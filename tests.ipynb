{
 "cells": [
  {
   "cell_type": "code",
   "execution_count": 1,
   "metadata": {},
   "outputs": [],
   "source": [
    "import spotdl\n",
    "from dotenv import load_dotenv\n",
    "import os"
   ]
  },
  {
   "cell_type": "code",
   "execution_count": 2,
   "metadata": {},
   "outputs": [],
   "source": [
    "# Load environment variables\n",
    "load_dotenv(dotenv_path='.env')\n",
    "\n",
    "# Spotify API setup\n",
    "client_id = os.getenv(\"CLIENT_ID\")\n",
    "client_secret = os.getenv(\"CLIENT_SECRET\")"
   ]
  },
  {
   "cell_type": "code",
   "execution_count": null,
   "metadata": {},
   "outputs": [
    {
     "data": {
      "application/vnd.jupyter.widget-view+json": {
       "model_id": "f5fe1cd286a24745bcb0d53a6681a7f6",
       "version_major": 2,
       "version_minor": 0
      },
      "text/plain": [
       "Output()"
      ]
     },
     "metadata": {},
     "output_type": "display_data"
    }
   ],
   "source": [
    "from spotdl import Spotdl\n",
    "\n",
    "spotdl = Spotdl(client_id='your-client-id', client_secret='your-client-secret')\n",
    "\n",
    "songs = spotdl.search(['joji - test drive',\n",
    "    'https://open.spotify.com/track/4cOdK2wGLETKBW3PvgPWqT'])\n",
    "\n",
    "results = spotdl.download_songs(songs)\n",
    "song, path = spotdl.download(songs[0])"
   ]
  },
  {
   "cell_type": "code",
   "execution_count": 1,
   "metadata": {},
   "outputs": [],
   "source": [
    "import tidalapi"
   ]
  },
  {
   "cell_type": "code",
   "execution_count": 3,
   "metadata": {},
   "outputs": [
    {
     "ename": "ModuleNotFoundError",
     "evalue": "No module named 'plyer'",
     "output_type": "error",
     "traceback": [
      "\u001b[1;31m---------------------------------------------------------------------------\u001b[0m",
      "\u001b[1;31mModuleNotFoundError\u001b[0m                       Traceback (most recent call last)",
      "Cell \u001b[1;32mIn[3], line 1\u001b[0m\n\u001b[1;32m----> 1\u001b[0m \u001b[38;5;28;01mfrom\u001b[39;00m \u001b[38;5;21;01mplyer\u001b[39;00m \u001b[38;5;28;01mimport\u001b[39;00m notification\n\u001b[0;32m      3\u001b[0m login, future \u001b[38;5;241m=\u001b[39m session\u001b[38;5;241m.\u001b[39mlogin_oauth()\n\u001b[0;32m      5\u001b[0m notification\u001b[38;5;241m.\u001b[39mnotify(\u001b[38;5;124m\"\u001b[39m\u001b[38;5;124mOpen the URL to log in\u001b[39m\u001b[38;5;124m\"\u001b[39m, login\u001b[38;5;241m.\u001b[39mverification_uri_complete)\n",
      "\u001b[1;31mModuleNotFoundError\u001b[0m: No module named 'plyer'"
     ]
    }
   ],
   "source": [
    "\n",
    "\n",
    "ydl_opts = {\n",
    "            'cookies': 'cookies.txt',\n",
    "            'format': 'bestaudio/best',\n",
    "            'outtmpl': os.path.join(download_path, sanitized_artist_name, sanitized_album_name, f'{track_number}-{sanitized_track_name}.%(ext)s'),\n",
    "            'postprocessors': [{\n",
    "                'key': 'FFmpegExtractAudio',\n",
    "                'preferredcodec': 'mp3',\n",
    "                'preferredquality': '320',\n",
    "            }],\n",
    "        }"
   ]
  }
 ],
 "metadata": {
  "kernelspec": {
   "display_name": "spotify-downloader",
   "language": "python",
   "name": "python3"
  },
  "language_info": {
   "codemirror_mode": {
    "name": "ipython",
    "version": 3
   },
   "file_extension": ".py",
   "mimetype": "text/x-python",
   "name": "python",
   "nbconvert_exporter": "python",
   "pygments_lexer": "ipython3",
   "version": "3.11.11"
  }
 },
 "nbformat": 4,
 "nbformat_minor": 2
}
